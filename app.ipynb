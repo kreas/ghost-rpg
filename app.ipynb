{
 "cells": [
  {
   "cell_type": "code",
   "execution_count": 6,
   "metadata": {},
   "outputs": [
    {
     "name": "stdout",
     "output_type": "stream",
     "text": [
      "Requirement already satisfied: boto3==1.24.91 in ./venv/lib/python3.9/site-packages (from -r requirements.txt (line 1)) (1.24.91)\n",
      "Requirement already satisfied: botocore==1.27.91 in ./venv/lib/python3.9/site-packages (from -r requirements.txt (line 2)) (1.27.91)\n",
      "Requirement already satisfied: certifi==2022.9.24 in ./venv/lib/python3.9/site-packages (from -r requirements.txt (line 3)) (2022.9.24)\n",
      "Requirement already satisfied: charset-normalizer==2.1.1 in ./venv/lib/python3.9/site-packages (from -r requirements.txt (line 4)) (2.1.1)\n",
      "Requirement already satisfied: diffusers==0.5.1 in ./venv/lib/python3.9/site-packages (from -r requirements.txt (line 5)) (0.5.1)\n",
      "Requirement already satisfied: filelock==3.8.0 in ./venv/lib/python3.9/site-packages (from -r requirements.txt (line 6)) (3.8.0)\n",
      "Requirement already satisfied: huggingface-hub==0.10.1 in ./venv/lib/python3.9/site-packages (from -r requirements.txt (line 7)) (0.10.1)\n",
      "Requirement already satisfied: idna==3.4 in ./venv/lib/python3.9/site-packages (from -r requirements.txt (line 8)) (3.4)\n",
      "Requirement already satisfied: importlib-metadata==5.0.0 in ./venv/lib/python3.9/site-packages (from -r requirements.txt (line 9)) (5.0.0)\n",
      "Requirement already satisfied: install==1.3.5 in ./venv/lib/python3.9/site-packages (from -r requirements.txt (line 10)) (1.3.5)\n",
      "Requirement already satisfied: jmespath==1.0.1 in ./venv/lib/python3.9/site-packages (from -r requirements.txt (line 11)) (1.0.1)\n",
      "Requirement already satisfied: numpy==1.23.4 in ./venv/lib/python3.9/site-packages (from -r requirements.txt (line 12)) (1.23.4)\n",
      "Requirement already satisfied: packaging==21.3 in ./venv/lib/python3.9/site-packages (from -r requirements.txt (line 13)) (21.3)\n",
      "Requirement already satisfied: pi==0.1.2 in ./venv/lib/python3.9/site-packages (from -r requirements.txt (line 14)) (0.1.2)\n",
      "Requirement already satisfied: Pillow==9.2.0 in ./venv/lib/python3.9/site-packages (from -r requirements.txt (line 15)) (9.2.0)\n",
      "Requirement already satisfied: pyparsing==3.0.9 in ./venv/lib/python3.9/site-packages (from -r requirements.txt (line 16)) (3.0.9)\n",
      "Requirement already satisfied: python-dateutil==2.8.2 in ./venv/lib/python3.9/site-packages (from -r requirements.txt (line 17)) (2.8.2)\n",
      "Requirement already satisfied: PyYAML==6.0 in ./venv/lib/python3.9/site-packages (from -r requirements.txt (line 18)) (6.0)\n",
      "Requirement already satisfied: regex==2022.9.13 in ./venv/lib/python3.9/site-packages (from -r requirements.txt (line 19)) (2022.9.13)\n",
      "Requirement already satisfied: requests==2.28.1 in ./venv/lib/python3.9/site-packages (from -r requirements.txt (line 20)) (2.28.1)\n",
      "Requirement already satisfied: s3transfer==0.6.0 in ./venv/lib/python3.9/site-packages (from -r requirements.txt (line 21)) (0.6.0)\n",
      "Requirement already satisfied: scipy==1.9.2 in ./venv/lib/python3.9/site-packages (from -r requirements.txt (line 22)) (1.9.2)\n",
      "Requirement already satisfied: six==1.16.0 in ./venv/lib/python3.9/site-packages (from -r requirements.txt (line 23)) (1.16.0)\n",
      "Requirement already satisfied: tokenizers==0.13.1 in ./venv/lib/python3.9/site-packages (from -r requirements.txt (line 24)) (0.13.1)\n",
      "Requirement already satisfied: torch==1.12.1+cu113 in ./venv/lib/python3.9/site-packages (from -r requirements.txt (line 25)) (1.12.1+cu113)\n",
      "Requirement already satisfied: torchaudio==0.12.1+cu113 in ./venv/lib/python3.9/site-packages (from -r requirements.txt (line 26)) (0.12.1+cu113)\n",
      "Requirement already satisfied: torchvision==0.13.1+cu113 in ./venv/lib/python3.9/site-packages (from -r requirements.txt (line 27)) (0.13.1+cu113)\n",
      "Requirement already satisfied: tqdm==4.64.1 in ./venv/lib/python3.9/site-packages (from -r requirements.txt (line 28)) (4.64.1)\n",
      "Requirement already satisfied: transformers==4.23.1 in ./venv/lib/python3.9/site-packages (from -r requirements.txt (line 29)) (4.23.1)\n",
      "Requirement already satisfied: typing_extensions==4.4.0 in ./venv/lib/python3.9/site-packages (from -r requirements.txt (line 30)) (4.4.0)\n",
      "Requirement already satisfied: urllib3==1.26.12 in ./venv/lib/python3.9/site-packages (from -r requirements.txt (line 31)) (1.26.12)\n",
      "Requirement already satisfied: zipp==3.9.0 in ./venv/lib/python3.9/site-packages (from -r requirements.txt (line 32)) (3.9.0)\n",
      "Note: you may need to restart the kernel to use updated packages.\n"
     ]
    }
   ],
   "source": [
    "!. ./venv/bin/activate\n",
    "%pip install -r requirements.txt"
   ]
  },
  {
   "cell_type": "code",
   "execution_count": 233,
   "metadata": {},
   "outputs": [],
   "source": [
    "import torch\n",
    "from torch import autocast\n",
    "from diffusers import StableDiffusionPipeline, LMSDiscreteScheduler\n",
    "import uuid\n",
    "import io\n",
    "import boto3\n",
    "import random\n",
    "from tqdm import tqdm\n",
    "from datetime import datetime"
   ]
  },
  {
   "cell_type": "code",
   "execution_count": 209,
   "metadata": {},
   "outputs": [],
   "source": [
    "import toml\n",
    "config = toml.load(\"config.toml\")"
   ]
  },
  {
   "cell_type": "code",
   "execution_count": 225,
   "metadata": {},
   "outputs": [],
   "source": [
    "import redis\n",
    "from redis.commands.json.path import Path\n",
    "redis_config = config[\"redis\"]\n",
    "\n",
    "client = redis.Redis(\n",
    "    host=redis_config[\"host\"],\n",
    "    port=int(redis_config[\"port\"]),\n",
    "    password=redis_config[\"password\"]\n",
    ")"
   ]
  },
  {
   "cell_type": "code",
   "execution_count": 15,
   "metadata": {},
   "outputs": [
    {
     "data": {
      "application/vnd.jupyter.widget-view+json": {
       "model_id": "f4c74237b87442719170cbf3c926a98d",
       "version_major": 2,
       "version_minor": 0
      },
      "text/plain": [
       "Fetching 15 files:   0%|          | 0/15 [00:00<?, ?it/s]"
      ]
     },
     "metadata": {},
     "output_type": "display_data"
    },
    {
     "name": "stderr",
     "output_type": "stream",
     "text": [
      "ftfy or spacy is not installed using BERT BasicTokenizer instead of ftfy.\n"
     ]
    }
   ],
   "source": [
    "device = 'cuda'\n",
    "\n",
    "lms = LMSDiscreteScheduler(\n",
    "    beta_start=0.00085,\n",
    "    beta_end=0.012,\n",
    "    beta_schedule=\"scaled_linear\"\n",
    ")\n",
    "\n",
    "pipe = StableDiffusionPipeline.from_pretrained(\n",
    "    \"runwayml/stable-diffusion-v1-5\",\n",
    "    torch_type=torch.float16,\n",
    "    use_auth_token=config[\"hugging_face\"][\"api_key\"]\n",
    ").to(device)\n",
    "\n",
    "pipe.enable_attention_slicing()\n",
    "\n",
    "def dummy(images, **kwargs):\n",
    "    return images, False\n",
    "\n",
    "pipe.safety_checker = dummy"
   ]
  },
  {
   "cell_type": "code",
   "execution_count": 202,
   "metadata": {},
   "outputs": [],
   "source": [
    "def create_latents(width, height, seed):\n",
    "    generator = torch.Generator(device=device)\n",
    "    new_seed = generator.seed() if seed == 0 or seed is None else seed\n",
    "    generator = generator.manual_seed(new_seed)\n",
    "\n",
    "    image_latents = torch.randn(\n",
    "        (1, pipe.unet.in_channels, height // 8,  width // 8),\n",
    "        device=device,\n",
    "        generator=generator\n",
    "    )\n",
    "\n",
    "    return new_seed, image_latents\n",
    "\n",
    "\n",
    "def send(image, file_prefix):\n",
    "    filename = f\"{file_prefix}_{str(uuid.uuid4())}.jpg\"\n",
    "    mem_file = io.BytesIO()\n",
    "    image.save(mem_file, format='JPEG')\n",
    "    mem_file.seek(0)\n",
    "\n",
    "    s3 = boto3.client(\n",
    "        service_name='s3',\n",
    "        endpoint_url=config[\"r2\"][\"endpoint\"],\n",
    "        aws_access_key_id=config[\"r2\"][\"key\"],\n",
    "        aws_secret_access_key=config[\"r2\"][\"secret\"],\n",
    "    )\n",
    "\n",
    "    s3.upload_fileobj(\n",
    "        mem_file,\n",
    "        Bucket=BUCKET,\n",
    "        Key=filename,\n",
    "        ExtraArgs={\n",
    "            'ContentType': 'image/jpeg',\n",
    "        }\n",
    "    )\n",
    "\n",
    "    return filename"
   ]
  },
  {
   "cell_type": "code",
   "execution_count": 195,
   "metadata": {},
   "outputs": [],
   "source": [
    "attributes = toml.load(\"attributes.toml\")\n",
    "\n",
    "def random_prompt():\n",
    "    class_name = random.choice(attributes[\"classes\"])\n",
    "    subclass = random.choice(class_name[\"subclasses\"])\n",
    "    gender = random.choice(attributes[\"physical_attributes\"][\"gender\"])\n",
    "    physique  = random.choice(attributes[\"physical_attributes\"][\"physique\"])\n",
    "    hair_style = random.choice(attributes[\"physical_attributes\"][\"hair_style\"])\n",
    "    hair_color = random.choice(attributes[\"physical_attributes\"][\"hair_color\"])\n",
    "    hair_style = hair_style.replace(\"{color}\", hair_color)\n",
    "    armor = random.choice(class_name[\"armor_types\"])\n",
    "    ethnicity = random.choice(attributes[\"physical_attributes\"][\"ethnicity\"])\n",
    "\n",
    "    character = f\"a {physique} {gender} {ethnicity} {subclass} with {hair_style}, wearing cyberpunk inspired {armor}\"\n",
    "    style = attributes[\"prompt\"][\"style\"]\n",
    "    prompt = f\"{character} :: {style}\"\n",
    "\n",
    "    return prompt, {\n",
    "        \"class\": class_name[\"base\"],\n",
    "        \"subclass\": subclass,\n",
    "        \"gender\": gender,\n",
    "        \"physique\": physique,\n",
    "        \"hair_style\": hair_style,\n",
    "        \"armor\": armor,\n",
    "    }"
   ]
  },
  {
   "cell_type": "code",
   "execution_count": 196,
   "metadata": {},
   "outputs": [],
   "source": [
    "def generate_image():\n",
    "    prompt, punk = random_prompt()\n",
    "    width = attributes[\"image_attributes\"][\"width\"]\n",
    "    height = attributes[\"image_attributes\"][\"height\"]\n",
    "    steps = attributes[\"image_attributes\"][\"steps\"]\n",
    "    guidance_scale = attributes[\"image_attributes\"][\"guidance_scale\"]\n",
    "    seed = random.randint(0, 1000000)\n",
    "\n",
    "    image_seed, latents = create_latents(width, height, seed)\n",
    "    with autocast(\"cuda\"):\n",
    "        image = pipe(prompt, guidance_scale=guidance_scale, width=width,\n",
    "                        height=height, num_inference_steps=steps, latents=latents)[\"images\"][0]\n",
    "\n",
    "    return image, punk\n"
   ]
  },
  {
   "cell_type": "code",
   "execution_count": 235,
   "metadata": {},
   "outputs": [
    {
     "name": "stderr",
     "output_type": "stream",
     "text": [
      "  0%|                                                                                                  | 0/3000 [00:00<?, ?it/s]"
     ]
    },
    {
     "data": {
      "application/vnd.jupyter.widget-view+json": {
       "model_id": "362f60e4be8f46918531c9a3d7d77bbd",
       "version_major": 2,
       "version_minor": 0
      },
      "text/plain": [
       "  0%|          | 0/51 [00:00<?, ?it/s]"
      ]
     },
     "metadata": {},
     "output_type": "display_data"
    },
    {
     "name": "stderr",
     "output_type": "stream",
     "text": [
      "  0%|                                                                                        | 1/3000 [00:11<9:24:36, 11.30s/it]"
     ]
    },
    {
     "data": {
      "application/vnd.jupyter.widget-view+json": {
       "model_id": "cc97d9fbeb1f428d86a4ee9b12549d90",
       "version_major": 2,
       "version_minor": 0
      },
      "text/plain": [
       "  0%|          | 0/51 [00:00<?, ?it/s]"
      ]
     },
     "metadata": {},
     "output_type": "display_data"
    },
    {
     "name": "stderr",
     "output_type": "stream",
     "text": [
      "  0%|                                                                                        | 2/3000 [00:22<9:27:22, 11.35s/it]"
     ]
    },
    {
     "data": {
      "application/vnd.jupyter.widget-view+json": {
       "model_id": "cdf4b1331a5e4e1ea23afffae1d75482",
       "version_major": 2,
       "version_minor": 0
      },
      "text/plain": [
       "  0%|          | 0/51 [00:00<?, ?it/s]"
      ]
     },
     "metadata": {},
     "output_type": "display_data"
    },
    {
     "name": "stderr",
     "output_type": "stream",
     "text": [
      "  0%|                                                                                        | 3/3000 [00:33<9:25:29, 11.32s/it]"
     ]
    },
    {
     "data": {
      "application/vnd.jupyter.widget-view+json": {
       "model_id": "241e9807bdbf4641854ec88beddbc123",
       "version_major": 2,
       "version_minor": 0
      },
      "text/plain": [
       "  0%|          | 0/51 [00:00<?, ?it/s]"
      ]
     },
     "metadata": {},
     "output_type": "display_data"
    },
    {
     "name": "stderr",
     "output_type": "stream",
     "text": [
      "  0%|                                                                                        | 4/3000 [00:45<9:29:54, 11.41s/it]"
     ]
    },
    {
     "data": {
      "application/vnd.jupyter.widget-view+json": {
       "model_id": "cee3f05be42143afa875aa1804e1f23e",
       "version_major": 2,
       "version_minor": 0
      },
      "text/plain": [
       "  0%|          | 0/51 [00:00<?, ?it/s]"
      ]
     },
     "metadata": {},
     "output_type": "display_data"
    },
    {
     "name": "stderr",
     "output_type": "stream",
     "text": [
      "  0%|▏                                                                                       | 5/3000 [00:56<9:24:06, 11.30s/it]"
     ]
    },
    {
     "data": {
      "application/vnd.jupyter.widget-view+json": {
       "model_id": "bb3ec01a946d430ea10d8d92633adeda",
       "version_major": 2,
       "version_minor": 0
      },
      "text/plain": [
       "  0%|          | 0/51 [00:00<?, ?it/s]"
      ]
     },
     "metadata": {},
     "output_type": "display_data"
    },
    {
     "name": "stderr",
     "output_type": "stream",
     "text": [
      "  0%|▏                                                                                       | 6/3000 [01:06<9:07:57, 10.98s/it]"
     ]
    },
    {
     "data": {
      "application/vnd.jupyter.widget-view+json": {
       "model_id": "e053b79032654ecdb0132381fab49905",
       "version_major": 2,
       "version_minor": 0
      },
      "text/plain": [
       "  0%|          | 0/51 [00:00<?, ?it/s]"
      ]
     },
     "metadata": {},
     "output_type": "display_data"
    },
    {
     "name": "stderr",
     "output_type": "stream",
     "text": [
      "  0%|▏                                                                                       | 7/3000 [01:18<9:09:05, 11.01s/it]"
     ]
    },
    {
     "data": {
      "application/vnd.jupyter.widget-view+json": {
       "model_id": "2729da98ce564e7886075bc48d9d1f9f",
       "version_major": 2,
       "version_minor": 0
      },
      "text/plain": [
       "  0%|          | 0/51 [00:00<?, ?it/s]"
      ]
     },
     "metadata": {},
     "output_type": "display_data"
    }
   ],
   "source": [
    "web_interface = False\n",
    "\n",
    "if web_interface:\n",
    "    import gradio as gr\n",
    "\n",
    "    gr.close_all()\n",
    "\n",
    "    server = gr.Interface(\n",
    "        fn=generate_image,\n",
    "        title=\"Random Cyberpunk\",\n",
    "        inputs=[],\n",
    "        outputs=[\"image\", \"json\"],\n",
    "        allow_flagging=False\n",
    "    )\n",
    "    server.launch(share=False)\n",
    "\n",
    "else:\n",
    "    for n in tqdm(range(3000)):\n",
    "        image, punk = generate_image()\n",
    "        res = send(image, \"cyberpunk\")\n",
    "\n",
    "        key = res.split(\".\")[0]\n",
    "        punk[\"image\"] = config[\"r2\"][\"public_access\"] + res\n",
    "        punk[\"created_at\"] = datetime.strftime(datetime.now(), \"%Y-%m-%d %H:%M:%S\")\n",
    "        client.json().set(key, Path.root_path(), punk)"
   ]
  }
 ],
 "metadata": {
  "kernelspec": {
   "display_name": "Python 3 (ipykernel)",
   "language": "python",
   "name": "python3"
  },
  "language_info": {
   "codemirror_mode": {
    "name": "ipython",
    "version": 3
   },
   "file_extension": ".py",
   "mimetype": "text/x-python",
   "name": "python",
   "nbconvert_exporter": "python",
   "pygments_lexer": "ipython3",
   "version": "3.9.14"
  },
  "orig_nbformat": 4
 },
 "nbformat": 4,
 "nbformat_minor": 2
}
